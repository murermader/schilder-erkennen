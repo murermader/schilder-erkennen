{
 "cells": [
  {
   "cell_type": "code",
   "execution_count": 7,
   "id": "a45a1904-2cab-4cb4-93a8-d08fd636dd32",
   "metadata": {},
   "outputs": [
    {
     "name": "stdout",
     "output_type": "stream",
     "text": [
      "neg.txt erstellt.\n"
     ]
    },
    {
     "name": "stderr",
     "output_type": "stream",
     "text": [
      "The syntax of the command is incorrect.\n"
     ]
    }
   ],
   "source": [
    "# CMD-Befehle. Funktioniert nur auf Windows\n",
    "\n",
    "# neg.txt erstellen\n",
    "!python tools\\generate_neg_file.py .\\training\\negatives_google\\"
   ]
  },
  {
   "cell_type": "code",
   "execution_count": 10,
   "id": "361bb8d7-375b-496c-971a-908bed89074a",
   "metadata": {},
   "outputs": [],
   "source": [
    "# Datei umbenennen\n",
    "import os\n",
    "os.rename(\"./training/neg.txt\",\"training/negatives_google.txt\")"
   ]
  },
  {
   "cell_type": "code",
   "execution_count": 14,
   "id": "400861ab-4962-438e-a8cf-ca0a0a31baad",
   "metadata": {},
   "outputs": [],
   "source": [
    "create_samples_exe = \"tools\\opencv\\opencv_createsamples.exe\"\n",
    "pos_file = \"training/GTRSB/Geschwindigkeit_30_00001/pos.txt\"\n",
    "neg_file = \"training/negatives_google.txt\"\n",
    "\n",
    "!$create_samples_exe -info $pos_file -w 24 -h 24 num 1000 -vec pos.vec"
   ]
  },
  {
   "cell_type": "code",
   "execution_count": null,
   "id": "9a1eaa34-e9e9-49d3-be92-bacc56ede3f9",
   "metadata": {},
   "outputs": [],
   "source": []
  }
 ],
 "metadata": {
  "kernelspec": {
   "display_name": "Python 3",
   "language": "python",
   "name": "python3"
  },
  "language_info": {
   "codemirror_mode": {
    "name": "ipython",
    "version": 3
   },
   "file_extension": ".py",
   "mimetype": "text/x-python",
   "name": "python",
   "nbconvert_exporter": "python",
   "pygments_lexer": "ipython3",
   "version": "3.8.0"
  }
 },
 "nbformat": 4,
 "nbformat_minor": 5
}
