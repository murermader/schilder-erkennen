{
 "cells": [
  {
   "cell_type": "code",
   "execution_count": 5,
   "id": "3468dc96-1137-4ad8-a95f-306009cfd5bb",
   "metadata": {},
   "outputs": [
    {
     "name": "stdout",
     "output_type": "stream",
     "text": [
      "OpenCV Version: 4.5.1\n",
      "numpy Version: 1.20.2\n",
      "Es schreint alles korrekt installiert zu sein!\n"
     ]
    }
   ],
   "source": [
    "import cv2\n",
    "import numpy as np\n",
    "\n",
    "print(\"---\")\n",
    "print(f\"OpenCV Version: {cv2.__version__}\")\n",
    "print(f\"numpy Version: {np.__version__}\")\n",
    "print(\"---\")\n",
    "print(\"Es schreint alles korrekt installiert zu sein!\")"
   ]
  },
  {
   "cell_type": "code",
   "execution_count": null,
   "id": "e8ac11c5-7096-4f5f-87a3-e9adfdb7e76b",
   "metadata": {},
   "outputs": [],
   "source": []
  }
 ],
 "metadata": {
  "kernelspec": {
   "display_name": "Python 3",
   "language": "python",
   "name": "python3"
  },
  "language_info": {
   "codemirror_mode": {
    "name": "ipython",
    "version": 3
   },
   "file_extension": ".py",
   "mimetype": "text/x-python",
   "name": "python",
   "nbconvert_exporter": "python",
   "pygments_lexer": "ipython3",
   "version": "3.8.0"
  }
 },
 "nbformat": 4,
 "nbformat_minor": 5
}
